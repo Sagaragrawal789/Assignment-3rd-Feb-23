{
 "cells": [
  {
   "cell_type": "markdown",
   "id": "34634339-3b56-4f88-8403-8ccc7536d5ac",
   "metadata": {},
   "source": [
    "Q1. Which keyword is used to create a function? Create a function to return a list of odd numbers in the\n",
    "range of 1 to 25."
   ]
  },
  {
   "cell_type": "markdown",
   "id": "9de44c99-3276-46df-835d-8d8bb6e6cf7c",
   "metadata": {},
   "source": [
    "keyword- def"
   ]
  },
  {
   "cell_type": "code",
   "execution_count": 26,
   "id": "1b24ec7e-9444-4dd5-9bb4-168618f3f7fc",
   "metadata": {},
   "outputs": [],
   "source": [
    "def odd_list (x,y):\n",
    "    l1 = []\n",
    "    for i in range (x,y+1):\n",
    "        if i%2 !=0:\n",
    "            l1.append(i)\n",
    "    return (l1)\n",
    "    list(l1)    "
   ]
  },
  {
   "cell_type": "code",
   "execution_count": 27,
   "id": "6525806b-26a1-4a47-bd6f-6e0a8b63064e",
   "metadata": {},
   "outputs": [
    {
     "data": {
      "text/plain": [
       "[1, 3, 5, 7, 9, 11, 13, 15, 17, 19, 21, 23, 25]"
      ]
     },
     "execution_count": 27,
     "metadata": {},
     "output_type": "execute_result"
    }
   ],
   "source": [
    "odd_list(1,25)"
   ]
  },
  {
   "cell_type": "markdown",
   "id": "9757ca2b-fb28-466a-b8ec-c0b2678e5f0b",
   "metadata": {},
   "source": [
    "Q2. Why *args and **kwargs is used in some functions? Create a function each for *args and **kwargs\n",
    "to demonstrate their use."
   ]
  },
  {
   "cell_type": "markdown",
   "id": "2f5a4c84-25e9-447c-900f-c240948f770e",
   "metadata": {},
   "source": [
    "The *args allows the variable input as the usar provide, making it dynamic. Usar can provide n number of input in the function."
   ]
  },
  {
   "cell_type": "code",
   "execution_count": 4,
   "id": "7932d789-202e-4cc6-9d08-e1e360983abe",
   "metadata": {},
   "outputs": [
    {
     "name": "stdout",
     "output_type": "stream",
     "text": [
      "arg [0] Hello\n",
      "arg [1] my\n",
      "arg [2] name\n",
      "arg [3] is\n",
      "arg [4] Sagar\n"
     ]
    }
   ],
   "source": [
    "def myFun(*arg):\n",
    "    x=0\n",
    "    for i in arg:\n",
    "        print(\"arg\", [x], i)\n",
    "        x+=1\n",
    "myFun('Hello', 'my', 'name', 'is', 'Sagar')"
   ]
  },
  {
   "cell_type": "markdown",
   "id": "4649c5f4-6660-4b3c-a19a-7e804e9dc721",
   "metadata": {},
   "source": [
    "The **kwargs give the key, value and return dict"
   ]
  },
  {
   "cell_type": "code",
   "execution_count": 11,
   "id": "0d10eb75-18e3-40a6-8a26-5da8106786ee",
   "metadata": {},
   "outputs": [
    {
     "data": {
      "text/plain": [
       "{'Name': 'sagar', 'Name2': 'sagar2'}"
      ]
     },
     "execution_count": 11,
     "metadata": {},
     "output_type": "execute_result"
    }
   ],
   "source": [
    "def myFun(**kwargs):\n",
    "     return kwargs\n",
    "myFun(Name= 'sagar', Name2= 'sagar2')"
   ]
  },
  {
   "cell_type": "markdown",
   "id": "24c99bd1-2073-46d7-9b77-f7eaa642b63e",
   "metadata": {},
   "source": [
    "Q3. What is an iterator in python? Name the method used to initialise the iterator object and the method\n",
    "used for iteration. Use these methods to print the first five elements of the given list [2, 4, 6, 8, 10, 12, 14,\n",
    "16, 18, 20]."
   ]
  },
  {
   "cell_type": "markdown",
   "id": "2d9ca4ef-d938-46f7-99a5-6b7e1e3aa733",
   "metadata": {},
   "source": [
    "an iterator is an object which implement the iterator protocol, which consist of the methods __iter__() and __next__()."
   ]
  },
  {
   "cell_type": "code",
   "execution_count": 66,
   "id": "6d7a2bc6-292a-4518-af06-2844d555fb18",
   "metadata": {},
   "outputs": [
    {
     "name": "stdout",
     "output_type": "stream",
     "text": [
      "2\n",
      "4\n",
      "6\n",
      "8\n",
      "10\n"
     ]
    }
   ],
   "source": [
    "l= [2, 4, 6, 8, 10, 12, 14, 16, 18, 20]\n",
    "l1= iter(l)\n",
    "print(next(l1))\n",
    "print(next(l1))\n",
    "print(next(l1))\n",
    "print(next(l1))\n",
    "print(next(l1))\n",
    "    \n",
    "    "
   ]
  },
  {
   "cell_type": "markdown",
   "id": "12696fca-6d78-4569-9081-0850bb2def62",
   "metadata": {},
   "source": [
    "Q4. What is a generator function in python? Why yield keyword is used? Give an example of a generator\n",
    "function."
   ]
  },
  {
   "cell_type": "markdown",
   "id": "c3edc171-ecdb-40c4-8e53-78c036aeea67",
   "metadata": {},
   "source": [
    "Generator functions return a generator object that is iterable, the body of a def contains yield."
   ]
  },
  {
   "cell_type": "code",
   "execution_count": 32,
   "id": "8e98a8ff-19e5-4fe5-8651-2d692f773f66",
   "metadata": {},
   "outputs": [
    {
     "name": "stdout",
     "output_type": "stream",
     "text": [
      "0\n",
      "1\n",
      "2\n",
      "3\n",
      "4\n"
     ]
    }
   ],
   "source": [
    "def my_generator(n):\n",
    "    x = 0\n",
    "    while x < n:\n",
    "        yield x\n",
    "        x += 1\n",
    "\n",
    "for x in my_generator(5):\n",
    "    print(x)"
   ]
  },
  {
   "cell_type": "markdown",
   "id": "32b247d9-e114-4557-a678-8706c54d8561",
   "metadata": {},
   "source": [
    "Q5. Create a generator function for prime number less than 1000. Use the next() method to print the\n",
    "first 20 prime number."
   ]
  },
  {
   "cell_type": "code",
   "execution_count": 75,
   "id": "ac84de0d-3f3b-4012-9441-b44c6d8885c9",
   "metadata": {},
   "outputs": [],
   "source": [
    "def tt(n):\n",
    "    i = 2\n",
    "    while i < n :\n",
    "        prime = True\n",
    "        for a in range(2, i):\n",
    "            if i%a == 0:\n",
    "                prime = False\n",
    "                break\n",
    "        if prime:    \n",
    "            yield i\n",
    "        i += 1"
   ]
  },
  {
   "cell_type": "code",
   "execution_count": 84,
   "id": "792f5060-ec29-4b49-8e7f-a2b71c65054e",
   "metadata": {},
   "outputs": [
    {
     "data": {
      "text/plain": [
       "{2, 3, 5, 7}"
      ]
     },
     "execution_count": 84,
     "metadata": {},
     "output_type": "execute_result"
    }
   ],
   "source": [
    "set(tt(10))"
   ]
  },
  {
   "cell_type": "code",
   "execution_count": 86,
   "id": "9fc1194e-2ecb-449b-bcae-ca1d53ed3c7a",
   "metadata": {},
   "outputs": [
    {
     "name": "stdout",
     "output_type": "stream",
     "text": [
      "2\n",
      "3\n",
      "5\n",
      "7\n",
      "11\n",
      "13\n",
      "17\n",
      "19\n",
      "23\n",
      "29\n",
      "31\n",
      "37\n",
      "41\n",
      "43\n",
      "47\n",
      "53\n",
      "59\n",
      "61\n",
      "67\n",
      "71\n"
     ]
    }
   ],
   "source": [
    "def prime():\n",
    "    yield 2\n",
    "    prime_list = [2]\n",
    "    for i in range(3, 1000):\n",
    "        is_prime = True\n",
    "        for prime in prime_list:\n",
    "            if i % prime == 0:\n",
    "                is_prime = False\n",
    "                break\n",
    "        if is_prime:\n",
    "            prime_list.append(i)\n",
    "            yield i\n",
    "\n",
    "prime_gen = prime()\n",
    "for i in range(20):\n",
    "    print(next(prime_gen))"
   ]
  },
  {
   "cell_type": "markdown",
   "id": "a0f232fe-c51a-4e00-b74f-6bcd4ff50c34",
   "metadata": {},
   "source": [
    "Q6. Write a python program to print the first 10 Fibonacci numbers using a while loop."
   ]
  },
  {
   "cell_type": "code",
   "execution_count": 87,
   "id": "5ede9590-ee70-4891-be70-54c84a9729d2",
   "metadata": {},
   "outputs": [
    {
     "name": "stdout",
     "output_type": "stream",
     "text": [
      "0\n",
      "1\n",
      "1\n",
      "2\n",
      "3\n",
      "5\n",
      "8\n",
      "13\n",
      "21\n",
      "34\n"
     ]
    }
   ],
   "source": [
    "def fibonacci(n):\n",
    "    a, b = 0, 1\n",
    "    x = 0\n",
    "    while x < n:\n",
    "        print(a)\n",
    "        a, b = b, a + b\n",
    "        x += 1\n",
    "\n",
    "fibonacci(10)"
   ]
  },
  {
   "cell_type": "markdown",
   "id": "2cd51bb8-3cfe-4d1e-8789-a198ed88588c",
   "metadata": {},
   "source": [
    "Q7. Write a List Comprehension to iterate through the given string: ‘pwskills’.\n",
    "Expected output: ['p', 'w', 's', 'k', 'i', 'l', 'l', 's']"
   ]
  },
  {
   "cell_type": "code",
   "execution_count": 88,
   "id": "7283a317-d8cc-4583-a271-9012f85d9806",
   "metadata": {},
   "outputs": [
    {
     "name": "stdout",
     "output_type": "stream",
     "text": [
      "['p', 'w', 's', 'k', 'i', 'l', 'l', 's']\n"
     ]
    }
   ],
   "source": [
    "string = 'pwskills'\n",
    "l = [i for i in string]\n",
    "print(l)"
   ]
  },
  {
   "cell_type": "markdown",
   "id": "1dad9822-84dd-4aad-91bd-728e402854c0",
   "metadata": {},
   "source": [
    "Q8. Write a python program to check whether a given number is Palindrome or not using a while loop."
   ]
  },
  {
   "cell_type": "code",
   "execution_count": 93,
   "id": "9e2be13b-7ad3-4ca4-9ca0-82d28ed81171",
   "metadata": {},
   "outputs": [
    {
     "name": "stdin",
     "output_type": "stream",
     "text": [
      "Enter a number: 678\n"
     ]
    },
    {
     "name": "stdout",
     "output_type": "stream",
     "text": [
      "Not a palindrome!\n"
     ]
    }
   ],
   "source": [
    "num=int(input(\"Enter a number:\"))\n",
    "x=num\n",
    "y=0\n",
    "while(num>0):\n",
    "    a=num%10\n",
    "    y=y*10+a\n",
    "    num=num//10\n",
    "if(x==y):\n",
    "    print(\"The number  a palindrome!\")\n",
    "else:\n",
    "    print(\"Not a palindrome!\")"
   ]
  },
  {
   "cell_type": "markdown",
   "id": "02cb7493-e0f1-4b8d-aee4-35bfb9bdf959",
   "metadata": {},
   "source": [
    "Q9. Write a code to print odd numbers from 1 to 100 using list comprehension."
   ]
  },
  {
   "cell_type": "code",
   "execution_count": 92,
   "id": "59c790b4-38b7-48e9-9e5e-3849599b2923",
   "metadata": {},
   "outputs": [
    {
     "name": "stdout",
     "output_type": "stream",
     "text": [
      "[1, 3, 5, 7, 9, 11, 13, 15, 17, 19, 21, 23, 25, 27, 29, 31, 33, 35, 37, 39, 41, 43, 45, 47, 49, 51, 53, 55, 57, 59, 61, 63, 65, 67, 69, 71, 73, 75, 77, 79, 81, 83, 85, 87, 89, 91, 93, 95, 97, 99]\n"
     ]
    }
   ],
   "source": [
    "l= [i for i in range(1,100) if i%2!=0]\n",
    "print (l)"
   ]
  },
  {
   "cell_type": "code",
   "execution_count": null,
   "id": "65f89492-8253-4c88-b68c-5bf481980538",
   "metadata": {},
   "outputs": [],
   "source": []
  }
 ],
 "metadata": {
  "kernelspec": {
   "display_name": "Python 3 (ipykernel)",
   "language": "python",
   "name": "python3"
  },
  "language_info": {
   "codemirror_mode": {
    "name": "ipython",
    "version": 3
   },
   "file_extension": ".py",
   "mimetype": "text/x-python",
   "name": "python",
   "nbconvert_exporter": "python",
   "pygments_lexer": "ipython3",
   "version": "3.10.8"
  }
 },
 "nbformat": 4,
 "nbformat_minor": 5
}
